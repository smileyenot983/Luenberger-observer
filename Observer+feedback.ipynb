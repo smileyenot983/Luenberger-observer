{
  "nbformat": 4,
  "nbformat_minor": 0,
  "metadata": {
    "colab": {
      "name": "Observer+feedback.ipynb",
      "provenance": []
    },
    "kernelspec": {
      "name": "python3",
      "display_name": "Python 3"
    }
  },
  "cells": [
    {
      "cell_type": "code",
      "metadata": {
        "id": "d8gFowdonjXn",
        "outputId": "ec778d17-f150-422d-f8fc-faaf51e17911",
        "colab": {
          "base_uri": "https://localhost:8080/",
          "height": 181
        }
      },
      "source": [
        "import numpy as np\n",
        "!pip install control\n",
        "from control import obsv\n",
        "from control import ctrb"
      ],
      "execution_count": 77,
      "outputs": [
        {
          "output_type": "stream",
          "text": [
            "Requirement already satisfied: control in /usr/local/lib/python3.6/dist-packages (0.8.3)\n",
            "Requirement already satisfied: scipy in /usr/local/lib/python3.6/dist-packages (from control) (1.4.1)\n",
            "Requirement already satisfied: numpy in /usr/local/lib/python3.6/dist-packages (from control) (1.18.5)\n",
            "Requirement already satisfied: matplotlib in /usr/local/lib/python3.6/dist-packages (from control) (3.2.2)\n",
            "Requirement already satisfied: python-dateutil>=2.1 in /usr/local/lib/python3.6/dist-packages (from matplotlib->control) (2.8.1)\n",
            "Requirement already satisfied: kiwisolver>=1.0.1 in /usr/local/lib/python3.6/dist-packages (from matplotlib->control) (1.2.0)\n",
            "Requirement already satisfied: cycler>=0.10 in /usr/local/lib/python3.6/dist-packages (from matplotlib->control) (0.10.0)\n",
            "Requirement already satisfied: pyparsing!=2.0.4,!=2.1.2,!=2.1.6,>=2.0.1 in /usr/local/lib/python3.6/dist-packages (from matplotlib->control) (2.4.7)\n",
            "Requirement already satisfied: six>=1.5 in /usr/local/lib/python3.6/dist-packages (from python-dateutil>=2.1->matplotlib->control) (1.15.0)\n"
          ],
          "name": "stdout"
        }
      ]
    },
    {
      "cell_type": "markdown",
      "metadata": {
        "id": "nAB36VB2qTOy"
      },
      "source": [
        "**Equations of motion**\n",
        "\n",
        "Considered system is cartpole\n",
        "\\begin{equation}\n",
        "\\mathbf{\\dot{X}} =\n",
        "\\begin{bmatrix}\n",
        "0 & 1 & 0 & 0 \\\\\n",
        "0 & -\\frac{d}{m} & -\\frac{mg}{M} & 0 \\\\\n",
        "0 & 0 & 0 & 1 \\\\\n",
        "0 & -s \\frac{d}{ML} & -s \\frac{(m+M)g}{ML} & 0\n",
        "\\end{bmatrix}\n",
        "\\begin{bmatrix}\n",
        "x \\\\\n",
        "\\dot{x} \\\\\n",
        "\\theta \\\\\n",
        "\\dot{\\theta}\n",
        "\\end{bmatrix}\n",
        "+\n",
        "\\begin{bmatrix}\n",
        "0 \\\\\n",
        "\\frac{1}{M} \\\\\n",
        "0 \\\\\n",
        "s \\frac{1}{ML}\n",
        "\\end{bmatrix}\n",
        "u\n",
        "\\end{equation}\n",
        "\n",
        "Where $s=1$ means pendulum up position and $s=-1$ pendulum down position"
      ]
    },
    {
      "cell_type": "markdown",
      "metadata": {
        "id": "YKehT5FYfTVa"
      },
      "source": [
        "y = Cx"
      ]
    },
    {
      "cell_type": "markdown",
      "metadata": {
        "id": "_S1TlNSveMle"
      },
      "source": [
        "* Checking observability"
      ]
    },
    {
      "cell_type": "code",
      "metadata": {
        "id": "7Ahwf4c_qYL0",
        "outputId": "8d396d62-207a-4003-c298-2ea40f45c494",
        "colab": {
          "base_uri": "https://localhost:8080/",
          "height": 145
        }
      },
      "source": [
        "#system parameters:\n",
        "\n",
        "m = 1.\n",
        "M = 5.\n",
        "L = 2.\n",
        "g = -10.\n",
        "d = 1.\n",
        "\n",
        "\n",
        "\n",
        "s = -1 # s=-1 => pendulum down, s=1 => pendulum up\n",
        "\n",
        "params = {}\n",
        "params['m'] = m\n",
        "params['M'] = M\n",
        "params['L'] = L\n",
        "params['g'] = g\n",
        "params['d'] = d\n",
        "params['s'] = s\n",
        "\n",
        "A = np.array([\n",
        "              [0.,1.,0.,0.], \n",
        "              [0., -d/M, -m*g/M, 0. ], \n",
        "              [0.,0.,0.,1.],\n",
        "              [0.,-s*d/(M*L),-s*(m+M)*g/(M*L),0]])\n",
        "\n",
        "B = np.array([0., 1/M, 0., s*1/(M*L)])\n",
        "# B = B.T\n",
        "\n",
        "#we only measure x(position of cart)\n",
        "C = np.array([1,0,0,0])\n",
        "\n",
        "C_modified = np.zeros((4,4))\n",
        "C_modified[0,0] = 1\n",
        "\n",
        "D = np.zeros(C.shape[0])\n",
        "\n",
        "print(A)\n",
        "print(B)\n",
        "print(C)\n",
        "print(D)"
      ],
      "execution_count": 144,
      "outputs": [
        {
          "output_type": "stream",
          "text": [
            "[[ 0.   1.   0.   0. ]\n",
            " [ 0.  -0.2  2.   0. ]\n",
            " [ 0.   0.   0.   1. ]\n",
            " [ 0.   0.1 -6.   0. ]]\n",
            "[ 0.   0.2  0.  -0.1]\n",
            "[1 0 0 0]\n",
            "[0. 0. 0. 0.]\n"
          ],
          "name": "stdout"
        }
      ]
    },
    {
      "cell_type": "code",
      "metadata": {
        "id": "_tVl6XoB9NSO",
        "outputId": "6632e29a-153e-4839-b1d1-7952c982c367",
        "colab": {
          "base_uri": "https://localhost:8080/",
          "height": 35
        }
      },
      "source": [
        "np.linalg.matrix_rank(obsv(A,C))"
      ],
      "execution_count": 79,
      "outputs": [
        {
          "output_type": "execute_result",
          "data": {
            "text/plain": [
              "4"
            ]
          },
          "metadata": {
            "tags": []
          },
          "execution_count": 79
        }
      ]
    },
    {
      "cell_type": "code",
      "metadata": {
        "id": "szq-lWmw8SDT",
        "outputId": "ecbeee05-7159-45e3-a775-17a7c788c650",
        "colab": {
          "base_uri": "https://localhost:8080/",
          "height": 145
        }
      },
      "source": [
        "import scipy as sp\n",
        "poles = np.array([-10.,-11.,-12.,-13.])\n",
        "\n",
        "poles_placed = sp.signal.place_poles(A.T,C.reshape(1,-1).T,poles)\n",
        "print(poles_placed.gain_matrix.shape)\n",
        "\n",
        "observer_gains = poles_placed.gain_matrix[0]\n",
        "print('observer gains matrix:')\n",
        "print(observer_gains)\n",
        "\n",
        "observer_gains_modified = np.zeros((4,4))\n",
        "observer_gains_modified[0,:] = observer_gains\n",
        "observer_gains_modified"
      ],
      "execution_count": 169,
      "outputs": [
        {
          "output_type": "stream",
          "text": [
            "(1, 4)\n",
            "observer gains matrix:\n",
            "[  45.8         775.83999997 2875.09999984 6229.57999951]\n"
          ],
          "name": "stdout"
        },
        {
          "output_type": "execute_result",
          "data": {
            "text/plain": [
              "array([[  45.8       ,  775.83999997, 2875.09999984, 6229.57999951],\n",
              "       [   0.        ,    0.        ,    0.        ,    0.        ],\n",
              "       [   0.        ,    0.        ,    0.        ,    0.        ],\n",
              "       [   0.        ,    0.        ,    0.        ,    0.        ]])"
            ]
          },
          "metadata": {
            "tags": []
          },
          "execution_count": 169
        }
      ]
    },
    {
      "cell_type": "code",
      "metadata": {
        "id": "lFiZrFWWe2b2",
        "outputId": "85fb75bb-7e43-4e08-b2d2-a687b6073fa4",
        "colab": {
          "base_uri": "https://localhost:8080/",
          "height": 54
        }
      },
      "source": [
        "#checking controllability\n",
        "if np.linalg.matrix_rank(ctrb(A,B.reshape(-1,1))) == A.shape[0]:\n",
        "    print('system is controllable')\n",
        "else:\n",
        "    print('system is not controllable')\n",
        "\n",
        "#checking observability\n",
        "if np.linalg.matrix_rank(obsv(A,C.reshape(1,-1))) == A.shape[0]:\n",
        "    print('system is observable')\n",
        "else:\n",
        "    print('system is not observable')\n",
        "\n",
        "#If system is observable, it means that measuring x(position of cart is enough to reconstruct all other states)"
      ],
      "execution_count": 170,
      "outputs": [
        {
          "output_type": "stream",
          "text": [
            "system is controllable\n",
            "system is observable\n"
          ],
          "name": "stdout"
        }
      ]
    },
    {
      "cell_type": "markdown",
      "metadata": {
        "id": "SNnEYnrb8zN8"
      },
      "source": [
        "* First i will make full state feedback via pole placement, system will become\n",
        "\n",
        "\\begin{equation}\n",
        "\\dot{x} = Ax + Bu \\\\\n",
        "u = -Kx \\\\\n",
        "\\dot{x} = Ax - BKx = (A-BK)x\n",
        "\\end{equation}\n",
        "\n",
        "Pole placement's task it to make this system stable by making real part of it's eigenvalues negative"
      ]
    },
    {
      "cell_type": "code",
      "metadata": {
        "id": "FDRGtrBw8dPx",
        "outputId": "2f373872-4812-4b92-db89-d8f6b09213ff",
        "colab": {
          "base_uri": "https://localhost:8080/",
          "height": 72
        }
      },
      "source": [
        "import scipy as sp\n",
        "poles = np.array([-1.,-1.1,-1.2,-1.3])\n",
        "poles_placed = sp.signal.place_poles(A,B.reshape(-1,1),poles)\n",
        "print(poles_placed.gain_matrix.shape)\n",
        "\n",
        "\n",
        "gains = poles_placed.gain_matrix\n",
        "print('gain matrix:')\n",
        "print(gains)"
      ],
      "execution_count": 172,
      "outputs": [
        {
          "output_type": "stream",
          "text": [
            "(1, 4)\n",
            "gain matrix:\n",
            "[[  1.716   5.026 -15.668 -33.948]]\n"
          ],
          "name": "stdout"
        }
      ]
    },
    {
      "cell_type": "code",
      "metadata": {
        "id": "sHnj4A5i-Vmp"
      },
      "source": [
        "def sys_ode_controlled(state,t,params):\n",
        "    m = params['m']\n",
        "    M = params['M']\n",
        "    L = params['L']\n",
        "    g = params['g']\n",
        "    d = params['d']\n",
        "    s = params['s']\n",
        "\n",
        "\n",
        "    #state = [x,dx,theta,dtheta]\n",
        "    x,dx,theta,dtheta = state\n",
        "\n",
        "    Sy = np.sin(theta)\n",
        "    Cy = np.cos(theta)\n",
        "\n",
        "    D = m*L*L*(M+m*(1-Cy**2))\n",
        "\n",
        "    u = pole_control(state,gains)\n",
        "    # print(u)\n",
        "    #dstate = [dx,ddx,dtheta,ddtheta]\n",
        "\n",
        "    ddx = (1/D)*(-m**2*L**2*g*Cy*Sy + m*L**2*(m*L*dtheta**2*Sy - d*dx)) + m*L*L*(1/D)*u\n",
        "\n",
        "    ddtheta = (1/D)*((m+M)*m*g*L*Sy - m*L*Cy*(m*L*dtheta**2*Sy - d*dx)) - m*L*Cy*(1/D)*u\n",
        "\n",
        "    # print(dx,ddx,dtheta,ddtheta)\n",
        "    # dstate = np.concatenate((dx,ddx,dtheta,ddtheta))\n",
        "    dstate = dx,ddx,dtheta,ddtheta\n",
        "\n",
        "    return dstate"
      ],
      "execution_count": 173,
      "outputs": []
    },
    {
      "cell_type": "code",
      "metadata": {
        "id": "h51sz4tb9JRj"
      },
      "source": [
        "def pole_control(x,gains):\n",
        "    #u = -Kx\n",
        "    x_d = [0.,0.,0.,0.]\n",
        "    u = np.dot(gains,(x_d-x))\n",
        "    return u"
      ],
      "execution_count": 174,
      "outputs": []
    },
    {
      "cell_type": "code",
      "metadata": {
        "id": "HS-RdHKSx88O"
      },
      "source": [
        "from scipy.integrate import odeint\n",
        "\n",
        "# Integration\n",
        "t0 = 0 # Initial time \n",
        "tf = 10 # Final time\n",
        "N = 1E4 # Numbers of points in time span\n",
        "t = np.linspace(t0, tf, int(N)) # Create time span\n",
        "\n",
        "x0 = np.array([1.,0.,np.pi/100.,0.])\n",
        "q_sol = odeint(sys_ode_controlled, x0, t, args=(params,))"
      ],
      "execution_count": 175,
      "outputs": []
    },
    {
      "cell_type": "code",
      "metadata": {
        "id": "JMcb1tdZyDz1",
        "outputId": "c7281052-46de-4960-f49d-fc0f5de16ddc",
        "colab": {
          "base_uri": "https://localhost:8080/",
          "height": 265
        }
      },
      "source": [
        "import matplotlib.pyplot as plt\n",
        "\n",
        "x = q_sol[:,0]\n",
        "dx = q_sol[:,1]\n",
        "theta = q_sol[:,2]\n",
        "dtheta = q_sol[:,3]\n",
        "\n",
        "t = np.arange(len(x))\n",
        "\n",
        "plt.plot(t,x,label='cart position')\n",
        "plt.plot(t,theta,label='pendulum angle')\n",
        "plt.legend()\n",
        "plt.show()"
      ],
      "execution_count": 176,
      "outputs": [
        {
          "output_type": "display_data",
          "data": {
            "image/png": "[encoded data removed]",
            "text/plain": [
              "<Figure size 432x288 with 1 Axes>"
            ]
          },
          "metadata": {
            "tags": [],
            "needs_background": "light"
          }
        }
      ]
    },
    {
      "cell_type": "markdown",
      "metadata": {
        "id": "kgRkf9R319ZT"
      },
      "source": [
        "* Observer design(luenberger observer):\n",
        "\n",
        "\\begin{equation}\n",
        "\\dot{\\hat{x}} = A\\hat{x} + Bu + L(y-\\hat{y})\\\\\n",
        "\\hat{y} = C\\hat{x} + Du\n",
        "\\end{equation}\n",
        "\n",
        "Estimation error may be described as:\n",
        "\n",
        "\\begin{equation}\n",
        "\\dot{e} = \\dot{x} - \\dot{\\hat{x}} = Ax + Bu - A\\hat{x} - Bu - L(y-\\hat{y}) = A(x-\\hat{x}) - L(y - \\hat{y}) = A(x-\\hat{x}) - L(Cx + Du - C\\hat{x} - Du) = A(x-\\hat{x}) - LC(x-\\hat{x}) \\\\\n",
        "\\dot{e} = (A-LC)(x-\\hat{x}) = (A-LC)e\n",
        "\\end{equation}\n",
        "\n",
        "This is close to what we have in full state feedback \n",
        "\\begin{equation}\n",
        "\\dot{x} = Ax + Bu, \\ u=-Kx \\\\\n",
        "\\dot{x} = (A-BK)x\n",
        "\\end{equation}\n",
        "\n",
        "We want matrix (A-LC) to have negative eigenvalues, to make it stable(i.e. to make it converge to some stable point and not diverge). We can rewrite (A-LC):\n",
        "\n",
        "\\begin{equation}\n",
        "(A-LC)x = I \\lambda x \\\\\n",
        "(I \\lambda - (A-LC))x = 0 \\\\ \n",
        "\\end{equation}\n",
        "\n",
        "System of equations, described above will have single solution if $det(I \\lambda - (A-LC)) \\neq 0, x=0$. Eigenvectors does not exist in such case. For them to exist $det(I \\lambda - (A-LC)) = 0$. On equation below determinant is defined by $|matrix|$\n",
        "\n",
        "\\begin{equation}\n",
        "|(I \\lambda - (A-LC))| = 0 \\\\\n",
        "|(I \\lambda)^T - (A-LC)^T| = 0 \\\\\n",
        "|I \\lambda - (A^T - C^TL^T)| = 0\n",
        "\\end{equation}\n",
        "\n",
        "Equation above is written in same way as equation for pole placement in full state feedback, which is $|\\lambda I - (A-BK) = 0|$. \n",
        "\n",
        "It possible to design observer gains using same pole placement method, but instead of A and B, we will use $A^T$ and $C^T$."
      ]
    },
    {
      "cell_type": "markdown",
      "metadata": {
        "id": "hzN4q33u39Ad"
      },
      "source": [
        "* Control design with observer"
      ]
    },
    {
      "cell_type": "markdown",
      "metadata": {
        "id": "lwps2D3Cs2tP"
      },
      "source": [
        "We will simulate original system and observer system in parallel:\n",
        "\\begin{equation}\n",
        "\\dot{x} = Ax - BK\\hat{x} \\\\\n",
        "\\dot{\\hat{x}} = A \\hat{x} - BK\\hat{x} + L(Cx-C\\hat{x}) \\\\\n",
        "\\end{equation}\n",
        "\n",
        "Resulting state space representation will be:\n",
        "\\begin{equation}\n",
        "\\begin{bmatrix}\n",
        "\\dot{x} \\\\\n",
        "\\dot{\\hat{x}}\n",
        "\\end{bmatrix}\n",
        "=\n",
        "\\begin{bmatrix}\n",
        "A & -BK \\\\\n",
        "LC & A-BK-LC\n",
        "\\end{bmatrix}\n",
        "\\begin{bmatrix}\n",
        "x \\\\\n",
        "\\hat{x}\n",
        "\\end{bmatrix}\n",
        "\\end{equation}\n",
        "\n",
        "K and C can were chosen by pole placement"
      ]
    },
    {
      "cell_type": "code",
      "metadata": {
        "id": "mvydm0uL0b7D",
        "outputId": "eb4a90aa-7512-41df-f7d7-525a25afcb0a",
        "colab": {
          "base_uri": "https://localhost:8080/",
          "height": 72
        }
      },
      "source": [
        "import scipy as sp\n",
        "poles = np.array([-1.,-1.1,-1.2,-1.3])\n",
        "poles_placed = sp.signal.place_poles(A.T,C.reshape(1,-1).T,poles)\n",
        "print(poles_placed.gain_matrix.shape)\n",
        "\n",
        "observer_gains = poles_placed.gain_matrix[0]\n",
        "print('gain matrix:')\n",
        "print(gains)"
      ],
      "execution_count": 181,
      "outputs": [
        {
          "output_type": "stream",
          "text": [
            "(1, 4)\n",
            "gain matrix:\n",
            "[[  1.716   5.026 -15.668 -33.948]]\n"
          ],
          "name": "stdout"
        }
      ]
    },
    {
      "cell_type": "code",
      "metadata": {
        "id": "RZR71LhvMHmV"
      },
      "source": [
        "def pole_control(x,gains):\n",
        "    #u = -Kx\n",
        "    x_d = np.array([0.,0.,0.,0.],dtype='float64')\n",
        "    u = np.dot(gains,(x_d-x))\n",
        "    return u"
      ],
      "execution_count": 215,
      "outputs": []
    },
    {
      "cell_type": "code",
      "metadata": {
        "id": "YEFfiXQ52OWr"
      },
      "source": [
        "def sys_ode_observed(full_state,t,params):\n",
        "    m = params['m']\n",
        "    M = params['M']\n",
        "    L = params['L']\n",
        "    g = params['g']\n",
        "    d = params['d']\n",
        "    s = params['s']\n",
        "\n",
        "    #state = [x,dx,theta,dtheta]\n",
        "\n",
        "    state = full_state[:4]\n",
        "    state_hat = full_state[4:]\n",
        "\n",
        "    x,dx,theta,dtheta = state\n",
        "    x_hat,dx_hat,theta_hat,dtheta_hat = state_hat\n",
        "\n",
        "    u = pole_control(state_hat,gains)\n",
        "    # u = 0\n",
        "    # print(u)\n",
        "\n",
        "    dstate = np.dot(A,state) + B*u\n",
        "\n",
        "    dstate_hat = np.dot(A,state_hat) + B*u + np.dot(np.dot(observer_gains.T,C),(state-state_hat))\n",
        "\n",
        "    return np.concatenate((dstate,dstate_hat))\n"
      ],
      "execution_count": 216,
      "outputs": []
    },
    {
      "cell_type": "code",
      "metadata": {
        "id": "-Ey9ubiLDcX3"
      },
      "source": [
        "def sys_ode_observed_nonlinear(full_state,t,params):\n",
        "    m = params['m']\n",
        "    M = params['M']\n",
        "    L = params['L']\n",
        "    g = params['g']\n",
        "    d = params['d']\n",
        "    s = params['s']\n",
        "\n",
        "    #state = [x,dx,theta,dtheta]\n",
        "\n",
        "    state = full_state[:4]\n",
        "    state_hat = full_state[4:]\n",
        "\n",
        "    x,dx,theta,dtheta = state\n",
        "    x_hat,dx_hat,theta_hat,dtheta_hat = state_hat\n",
        "\n",
        "    u = pole_control(state_hat,gains)\n",
        "    # u = 0\n",
        "    # print(u)\n",
        "\n",
        "    '''Actual system'''\n",
        "    Sy = np.sin(theta)\n",
        "    Cy = np.cos(theta)\n",
        "\n",
        "    D = m*L*L*(M+m*(1-Cy**2))\n",
        "\n",
        "    ddx = (1/D)*(-m**2*L**2*g*Cy*Sy + m*L**2*(m*L*dtheta**2*Sy - d*dx)) + m*L*L*(1/D)*u\n",
        "    ddtheta = (1/D)*((m+M)*m*g*L*Sy - m*L*Cy*(m*L*dtheta**2*Sy - d*dx)) - m*L*Cy*(1/D)*u\n",
        "\n",
        "    '''Observer'''\n",
        "\n",
        "    Sy_hat = np.sin(theta_hat)\n",
        "    Cy_hat = np.cos(theta_hat)\n",
        "\n",
        "    D_hat = m*L*L*(M+m*(1-Cy_hat**2))\n",
        "\n",
        "    ddx_hat = (1/D_hat)*(-m**2*L**2*g*Cy_hat*Sy_hat + m*L**2*(m*L*dtheta_hat**2*Sy_hat - d*dx)) + m*L*L*(1/D_hat)*u\n",
        "    ddtheta_hat = (1/D_hat)*((m+M)*m*g*L*Sy_hat - m*L*Cy_hat*(m*L*dtheta_hat**2*Sy - d*dx_hat)) - m*L*Cy*(1/D_hat)*u\n",
        "\n",
        "    dstate = np.array([dx,ddx,dtheta,ddtheta],dtype='float64')\n",
        "\n",
        "    dstate_hat = np.array([dx_hat,ddx_hat,dtheta_hat,ddtheta_hat],dtype='float64')\n",
        "\n",
        "    dstate_hat += np.dot(np.dot(observer_gains.T,C),(state-state_hat))\n",
        "\n",
        "    return np.concatenate((dstate,dstate_hat))\n"
      ],
      "execution_count": 221,
      "outputs": []
    },
    {
      "cell_type": "code",
      "metadata": {
        "id": "nLeUOMP-524X",
        "outputId": "556af52a-fb82-47f4-f170-09c985a8b680",
        "colab": {
          "base_uri": "https://localhost:8080/",
          "height": 35
        }
      },
      "source": [
        "from scipy.integrate import odeint\n",
        "\n",
        "# Integration\n",
        "t0 = 0 # Initial time \n",
        "tf = 20 # Final time\n",
        "N = 1E4 # Numbers of points in time span\n",
        "t = np.linspace(t0, tf, int(N)) # Create time span\n",
        "\n",
        "x0 = np.array([1.,0.,np.pi/100,0.,0.,0.,0.,0.],dtype='float64')\n",
        "q_sol = odeint(sys_ode_observed_nonlinear, x0, t, args=(params,))\n",
        "print(q_sol.shape)"
      ],
      "execution_count": 222,
      "outputs": [
        {
          "output_type": "stream",
          "text": [
            "(10000, 8)\n"
          ],
          "name": "stdout"
        }
      ]
    },
    {
      "cell_type": "code",
      "metadata": {
        "id": "BusmegGs54tE",
        "outputId": "24ce37a7-5cfb-4e58-d3c0-f7803816ca53",
        "colab": {
          "base_uri": "https://localhost:8080/",
          "height": 265
        }
      },
      "source": [
        "import matplotlib.pyplot as plt\n",
        "\n",
        "x = q_sol[:,0]\n",
        "dx = q_sol[:,1]\n",
        "theta = q_sol[:,2]\n",
        "dtheta = q_sol[:,3]\n",
        "\n",
        "x_hat = q_sol[:,4]\n",
        "dx_hat = q_sol[:,5]\n",
        "theta_hat = q_sol[:,6]\n",
        "dtheta_hat = q_sol[:,7]\n",
        "\n",
        "\n",
        "t = np.arange(len(x))\n",
        "\n",
        "plt.plot(t,x,label='cart position')\n",
        "plt.plot(t,theta,label='pendulum angle')\n",
        "plt.legend()\n",
        "plt.show()"
      ],
      "execution_count": 223,
      "outputs": [
        {
          "output_type": "display_data",
          "data": {
            "image/png": "[encoded data removed]",
            "text/plain": [
              "<Figure size 432x288 with 1 Axes>"
            ]
          },
          "metadata": {
            "tags": [],
            "needs_background": "light"
          }
        }
      ]
    },
    {
      "cell_type": "code",
      "metadata": {
        "id": "6Cg5kCaI57UO",
        "outputId": "e16457f1-fb44-45ec-ee43-11e63e6f2e3f",
        "colab": {
          "base_uri": "https://localhost:8080/",
          "height": 265
        }
      },
      "source": [
        "plt.plot(t,x_hat,label='cart position')\n",
        "plt.plot(t,theta_hat,label='pendulum angle')\n",
        "plt.legend()\n",
        "plt.show()"
      ],
      "execution_count": 224,
      "outputs": [
        {
          "output_type": "display_data",
          "data": {
            "image/png": "[encoded data removed]",
            "text/plain": [
              "<Figure size 432x288 with 1 Axes>"
            ]
          },
          "metadata": {
            "tags": [],
            "needs_background": "light"
          }
        }
      ]
    },
    {
      "cell_type": "code",
      "metadata": {
        "id": "Atj-EElYQmg_",
        "outputId": "cd7d2755-65b5-4f24-9c88-6732d1f30679",
        "colab": {
          "base_uri": "https://localhost:8080/",
          "height": 283
        }
      },
      "source": [
        "x_error = x-x_hat\n",
        "theta_error = theta - theta_hat\n",
        "plt.plot(t,x_error,label='error in cart position')\n",
        "plt.plot(t,theta_error,label='error in pendulum angle')"
      ],
      "execution_count": 225,
      "outputs": [
        {
          "output_type": "execute_result",
          "data": {
            "text/plain": [
              "[<matplotlib.lines.Line2D at 0x7f3789175d30>]"
            ]
          },
          "metadata": {
            "tags": []
          },
          "execution_count": 225
        },
        {
          "output_type": "display_data",
          "data": {
            "image/png": "[encoded data removed]",
            "text/plain": [
              "<Figure size 432x288 with 1 Axes>"
            ]
          },
          "metadata": {
            "tags": [],
            "needs_background": "light"
          }
        }
      ]
    },
    {
      "cell_type": "code",
      "metadata": {
        "id": "9jR-FyAP-P2P"
      },
      "source": [
        ""
      ],
      "execution_count": null,
      "outputs": []
    }
  ]
}